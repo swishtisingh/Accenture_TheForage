{
 "cells": [
  {
   "cell_type": "code",
   "execution_count": 3,
   "id": "2d19bcb0-27f9-42a4-aa3c-e89c0da047d3",
   "metadata": {},
   "outputs": [],
   "source": [
    "import numpy as np\n",
    "import pandas as pd"
   ]
  },
  {
   "cell_type": "markdown",
   "id": "250d9a97-3a36-43f3-a20a-19aed2c84e7e",
   "metadata": {},
   "source": [
    "Load the dataset"
   ]
  },
  {
   "cell_type": "code",
   "execution_count": 4,
   "id": "0cd8cb03-556d-4f95-be0f-ad4e9b1fce14",
   "metadata": {},
   "outputs": [],
   "source": [
    "file01 = 'ReactionTypes.csv'\n",
    "ReactType = pd.read_csv(file01)"
   ]
  },
  {
   "cell_type": "markdown",
   "id": "75e8db3a-54af-441a-91a7-406c5b499a05",
   "metadata": {},
   "source": [
    "Display Basic Info"
   ]
  },
  {
   "cell_type": "code",
   "execution_count": 5,
   "id": "3e30fef1-953d-41c5-8349-c1307a224ff8",
   "metadata": {},
   "outputs": [
    {
     "name": "stdout",
     "output_type": "stream",
     "text": [
      "<class 'pandas.core.frame.DataFrame'>\n",
      "RangeIndex: 16 entries, 0 to 15\n",
      "Data columns (total 4 columns):\n",
      " #   Column      Non-Null Count  Dtype \n",
      "---  ------      --------------  ----- \n",
      " 0   Unnamed: 0  16 non-null     int64 \n",
      " 1   Type        16 non-null     object\n",
      " 2   Sentiment   16 non-null     object\n",
      " 3   Score       16 non-null     int64 \n",
      "dtypes: int64(2), object(2)\n",
      "memory usage: 644.0+ bytes\n",
      "None\n"
     ]
    }
   ],
   "source": [
    "print(ReactType.info())"
   ]
  },
  {
   "cell_type": "markdown",
   "id": "6263858a-8f6d-4ad7-8e44-518f99caf12f",
   "metadata": {},
   "source": [
    "Remove missing values"
   ]
  },
  {
   "cell_type": "code",
   "execution_count": 10,
   "id": "5ce5c1f1-f6f3-4d24-95d4-88f625070831",
   "metadata": {},
   "outputs": [
    {
     "name": "stdout",
     "output_type": "stream",
     "text": [
      "Unnamed: 0    0\n",
      "Type          0\n",
      "Sentiment     0\n",
      "Score         0\n",
      "dtype: int64\n"
     ]
    }
   ],
   "source": [
    "print(ReactType.isnull().sum()) #no null values"
   ]
  },
  {
   "cell_type": "markdown",
   "id": "6be6b0fe-f640-486b-a748-c644a3b8e5bd",
   "metadata": {},
   "source": [
    "Display dataset"
   ]
  },
  {
   "cell_type": "code",
   "execution_count": 6,
   "id": "61c9424e-21f0-47d8-bce8-8b2e6120f572",
   "metadata": {},
   "outputs": [
    {
     "name": "stdout",
     "output_type": "stream",
     "text": [
      "    Unnamed: 0         Type Sentiment  Score\n",
      "0            0        heart  positive     60\n",
      "1            1         want  positive     70\n",
      "2            2      disgust  negative      0\n",
      "3            3         hate  negative      5\n",
      "4            4   interested  positive     30\n",
      "5            5  indifferent   neutral     20\n",
      "6            6         love  positive     65\n",
      "7            7   super love  positive     75\n",
      "8            8      cherish  positive     70\n",
      "9            9        adore  positive     72\n",
      "10          10         like  positive     50\n",
      "11          11      dislike  negative     10\n",
      "12          12    intrigued  positive     45\n",
      "13          13      peeking   neutral     35\n",
      "14          14       scared  negative     15\n",
      "15          15      worried  negative     12\n"
     ]
    }
   ],
   "source": [
    "print(ReactType)"
   ]
  },
  {
   "cell_type": "markdown",
   "id": "af4e970a-df51-40e3-b5f4-909ed106c8f3",
   "metadata": {},
   "source": [
    "Remove unnamed column"
   ]
  },
  {
   "cell_type": "code",
   "execution_count": 7,
   "id": "219519db-0de2-44ff-88d3-5f083d090f51",
   "metadata": {},
   "outputs": [],
   "source": [
    "ReactType = ReactType.iloc[:, ~ReactType.columns.str.contains('^Unnamed')]"
   ]
  },
  {
   "cell_type": "code",
   "execution_count": 8,
   "id": "ecf353f8-1e60-4067-8a9c-61e9a3bb0029",
   "metadata": {},
   "outputs": [
    {
     "name": "stdout",
     "output_type": "stream",
     "text": [
      "           Type Sentiment  Score\n",
      "0         heart  positive     60\n",
      "1          want  positive     70\n",
      "2       disgust  negative      0\n",
      "3          hate  negative      5\n",
      "4    interested  positive     30\n",
      "5   indifferent   neutral     20\n",
      "6          love  positive     65\n",
      "7    super love  positive     75\n",
      "8       cherish  positive     70\n",
      "9         adore  positive     72\n",
      "10         like  positive     50\n",
      "11      dislike  negative     10\n",
      "12    intrigued  positive     45\n",
      "13      peeking   neutral     35\n",
      "14       scared  negative     15\n",
      "15      worried  negative     12\n"
     ]
    }
   ],
   "source": [
    "print(ReactType)"
   ]
  },
  {
   "cell_type": "markdown",
   "id": "271019fe-aa22-40bb-8eed-d83747d39b42",
   "metadata": {},
   "source": [
    "Rename field"
   ]
  },
  {
   "cell_type": "code",
   "execution_count": 9,
   "id": "f0b8fdda-101f-49dc-b0d4-1a2d2ce778ce",
   "metadata": {},
   "outputs": [],
   "source": [
    "ReactType = ReactType.rename(columns={'Type': 'Reaction Type'})"
   ]
  },
  {
   "cell_type": "code",
   "execution_count": 10,
   "id": "b7ec4df4-0bd8-4368-92a1-49ff86e8d4ef",
   "metadata": {},
   "outputs": [
    {
     "name": "stdout",
     "output_type": "stream",
     "text": [
      "   Reaction Type Sentiment  Score\n",
      "0          heart  positive     60\n",
      "1           want  positive     70\n",
      "2        disgust  negative      0\n",
      "3           hate  negative      5\n",
      "4     interested  positive     30\n",
      "5    indifferent   neutral     20\n",
      "6           love  positive     65\n",
      "7     super love  positive     75\n",
      "8        cherish  positive     70\n",
      "9          adore  positive     72\n",
      "10          like  positive     50\n",
      "11       dislike  negative     10\n",
      "12     intrigued  positive     45\n",
      "13       peeking   neutral     35\n",
      "14        scared  negative     15\n",
      "15       worried  negative     12\n"
     ]
    }
   ],
   "source": [
    "print(ReactType)"
   ]
  },
  {
   "cell_type": "markdown",
   "id": "d621690f-1bb4-4958-bbad-b03ba67b1639",
   "metadata": {},
   "source": [
    "Load the dataset"
   ]
  },
  {
   "cell_type": "code",
   "execution_count": 11,
   "id": "4c4910ea-d6c0-4f69-8245-03a78055f03e",
   "metadata": {},
   "outputs": [],
   "source": [
    "file02 = 'Reactions.csv'\n",
    "React = pd.read_csv(file02)"
   ]
  },
  {
   "cell_type": "markdown",
   "id": "ac6db8a3-1c7a-4e64-a1fd-5f2619fc2b4a",
   "metadata": {},
   "source": [
    "Display Basic Info"
   ]
  },
  {
   "cell_type": "code",
   "execution_count": 12,
   "id": "c8695153-75e4-4efb-85e9-bc26e52cd1b4",
   "metadata": {},
   "outputs": [
    {
     "name": "stdout",
     "output_type": "stream",
     "text": [
      "<class 'pandas.core.frame.DataFrame'>\n",
      "RangeIndex: 25553 entries, 0 to 25552\n",
      "Data columns (total 5 columns):\n",
      " #   Column      Non-Null Count  Dtype \n",
      "---  ------      --------------  ----- \n",
      " 0   Unnamed: 0  25553 non-null  int64 \n",
      " 1   Content ID  25553 non-null  object\n",
      " 2   User ID     22534 non-null  object\n",
      " 3   Type        24573 non-null  object\n",
      " 4   Datetime    25553 non-null  object\n",
      "dtypes: int64(1), object(4)\n",
      "memory usage: 998.3+ KB\n",
      "None\n"
     ]
    }
   ],
   "source": [
    "print(React.info())"
   ]
  },
  {
   "cell_type": "markdown",
   "id": "9b0aacf0-cf90-4c3e-b7d7-6d1920e479bc",
   "metadata": {},
   "source": [
    "Remove missing values"
   ]
  },
  {
   "cell_type": "code",
   "execution_count": 13,
   "id": "0fbf197b-3be8-4fdb-971d-695d9387aaa4",
   "metadata": {},
   "outputs": [
    {
     "name": "stdout",
     "output_type": "stream",
     "text": [
      "Unnamed: 0       0\n",
      "Content ID       0\n",
      "User ID       3019\n",
      "Type           980\n",
      "Datetime         0\n",
      "dtype: int64\n"
     ]
    }
   ],
   "source": [
    "print(React.isnull().sum()) # User ID has 3019 missing values and Type field has 980 missing values."
   ]
  },
  {
   "cell_type": "code",
   "execution_count": 14,
   "id": "c32127b7-aa40-488d-a423-ac609f2bfca7",
   "metadata": {},
   "outputs": [
    {
     "name": "stdout",
     "output_type": "stream",
     "text": [
      "<class 'pandas.core.frame.DataFrame'>\n",
      "Index: 22534 entries, 1 to 25552\n",
      "Data columns (total 5 columns):\n",
      " #   Column      Non-Null Count  Dtype \n",
      "---  ------      --------------  ----- \n",
      " 0   Unnamed: 0  22534 non-null  int64 \n",
      " 1   Content ID  22534 non-null  object\n",
      " 2   User ID     22534 non-null  object\n",
      " 3   Type        22534 non-null  object\n",
      " 4   Datetime    22534 non-null  object\n",
      "dtypes: int64(1), object(4)\n",
      "memory usage: 1.0+ MB\n",
      "None\n"
     ]
    }
   ],
   "source": [
    "React= React.dropna()\n",
    "print(React.info())"
   ]
  },
  {
   "cell_type": "markdown",
   "id": "47c79f46-be39-4d26-bca1-23644208b48f",
   "metadata": {},
   "source": [
    "Drop unnamed column"
   ]
  },
  {
   "cell_type": "code",
   "execution_count": 19,
   "id": "a1698c95-d06a-4e6f-9cdf-697b19beaf86",
   "metadata": {},
   "outputs": [],
   "source": [
    "React = React.drop(columns=[ 'User ID'])"
   ]
  },
  {
   "cell_type": "code",
   "execution_count": 20,
   "id": "9d094482-db13-4c41-b3d5-91fc02dba1af",
   "metadata": {},
   "outputs": [
    {
     "name": "stdout",
     "output_type": "stream",
     "text": [
      "                             Content ID        Type             Datetime\n",
      "1  97522e57-d9ab-4bd6-97bf-c24d952602d2     disgust  2020-11-07 09:43:50\n",
      "2  97522e57-d9ab-4bd6-97bf-c24d952602d2     dislike  2021-06-17 12:22:51\n",
      "3  97522e57-d9ab-4bd6-97bf-c24d952602d2      scared  2021-04-18 05:13:58\n",
      "4  97522e57-d9ab-4bd6-97bf-c24d952602d2     disgust  2021-01-06 19:13:01\n",
      "5  97522e57-d9ab-4bd6-97bf-c24d952602d2  interested  2020-08-23 12:25:58\n"
     ]
    }
   ],
   "source": [
    "print(React.head())"
   ]
  },
  {
   "cell_type": "code",
   "execution_count": 21,
   "id": "40172eb9-0cf2-409b-80f2-00ec9917792e",
   "metadata": {},
   "outputs": [
    {
     "name": "stdout",
     "output_type": "stream",
     "text": [
      "<class 'pandas.core.frame.DataFrame'>\n",
      "Index: 22534 entries, 1 to 25552\n",
      "Data columns (total 3 columns):\n",
      " #   Column      Non-Null Count  Dtype \n",
      "---  ------      --------------  ----- \n",
      " 0   Content ID  22534 non-null  object\n",
      " 1   Type        22534 non-null  object\n",
      " 2   Datetime    22534 non-null  object\n",
      "dtypes: object(3)\n",
      "memory usage: 704.2+ KB\n",
      "None\n"
     ]
    }
   ],
   "source": [
    "print(React.info())"
   ]
  },
  {
   "cell_type": "code",
   "execution_count": 22,
   "id": "ec3b5eea-96bd-465e-9fc3-009e168a385a",
   "metadata": {},
   "outputs": [],
   "source": [
    "React = React.rename(columns={'Type':'Reaction Type'})"
   ]
  },
  {
   "cell_type": "code",
   "execution_count": 23,
   "id": "dcc2f5b6-9dae-4052-aabe-b15a0a2373d8",
   "metadata": {},
   "outputs": [
    {
     "name": "stdout",
     "output_type": "stream",
     "text": [
      "                                 Content ID Reaction Type             Datetime\n",
      "1      97522e57-d9ab-4bd6-97bf-c24d952602d2       disgust  2020-11-07 09:43:50\n",
      "2      97522e57-d9ab-4bd6-97bf-c24d952602d2       dislike  2021-06-17 12:22:51\n",
      "3      97522e57-d9ab-4bd6-97bf-c24d952602d2        scared  2021-04-18 05:13:58\n",
      "4      97522e57-d9ab-4bd6-97bf-c24d952602d2       disgust  2021-01-06 19:13:01\n",
      "5      97522e57-d9ab-4bd6-97bf-c24d952602d2    interested  2020-08-23 12:25:58\n",
      "...                                     ...           ...                  ...\n",
      "25547  75d6b589-7fae-4a6d-b0d0-752845150e56       worried  2020-10-31 04:50:14\n",
      "25548  75d6b589-7fae-4a6d-b0d0-752845150e56       dislike  2020-06-27 09:46:48\n",
      "25549  75d6b589-7fae-4a6d-b0d0-752845150e56     intrigued  2021-02-16 17:17:02\n",
      "25551  75d6b589-7fae-4a6d-b0d0-752845150e56       worried  2020-11-04 20:08:31\n",
      "25552  75d6b589-7fae-4a6d-b0d0-752845150e56       cherish  2021-01-04 04:55:11\n",
      "\n",
      "[22534 rows x 3 columns]\n"
     ]
    }
   ],
   "source": [
    "print(React)"
   ]
  },
  {
   "cell_type": "markdown",
   "id": "dd181831-93f5-4c96-8116-87f5de97129d",
   "metadata": {},
   "source": [
    "Drop Column"
   ]
  },
  {
   "cell_type": "code",
   "execution_count": 53,
   "id": "cba40eed-05ae-4dda-9183-9d49e10762f3",
   "metadata": {},
   "outputs": [],
   "source": [
    "React = React.drop(columns=['User ID'])"
   ]
  },
  {
   "cell_type": "code",
   "execution_count": 54,
   "id": "da7a35da-5b6b-4b98-ae4f-49e7e4915b3a",
   "metadata": {},
   "outputs": [
    {
     "name": "stdout",
     "output_type": "stream",
     "text": [
      "                                 Content ID Reaction Type             Datetime\n",
      "1      97522e57-d9ab-4bd6-97bf-c24d952602d2       disgust  2020-11-07 09:43:50\n",
      "2      97522e57-d9ab-4bd6-97bf-c24d952602d2       dislike  2021-06-17 12:22:51\n",
      "3      97522e57-d9ab-4bd6-97bf-c24d952602d2        scared  2021-04-18 05:13:58\n",
      "4      97522e57-d9ab-4bd6-97bf-c24d952602d2       disgust  2021-01-06 19:13:01\n",
      "5      97522e57-d9ab-4bd6-97bf-c24d952602d2    interested  2020-08-23 12:25:58\n",
      "...                                     ...           ...                  ...\n",
      "25547  75d6b589-7fae-4a6d-b0d0-752845150e56       worried  2020-10-31 04:50:14\n",
      "25548  75d6b589-7fae-4a6d-b0d0-752845150e56       dislike  2020-06-27 09:46:48\n",
      "25549  75d6b589-7fae-4a6d-b0d0-752845150e56     intrigued  2021-02-16 17:17:02\n",
      "25551  75d6b589-7fae-4a6d-b0d0-752845150e56       worried  2020-11-04 20:08:31\n",
      "25552  75d6b589-7fae-4a6d-b0d0-752845150e56       cherish  2021-01-04 04:55:11\n",
      "\n",
      "[22534 rows x 3 columns]\n"
     ]
    }
   ],
   "source": [
    "print(React)"
   ]
  },
  {
   "cell_type": "code",
   "execution_count": 56,
   "id": "016143bf-1852-4f42-963d-9fa9f0a40e9e",
   "metadata": {},
   "outputs": [],
   "source": [
    "React = React.drop(columns=['Datetime'])"
   ]
  },
  {
   "cell_type": "code",
   "execution_count": 57,
   "id": "8f7f2d6c-d3d4-420f-9a48-23012f838a7d",
   "metadata": {},
   "outputs": [
    {
     "name": "stdout",
     "output_type": "stream",
     "text": [
      "                                 Content ID Reaction Type\n",
      "1      97522e57-d9ab-4bd6-97bf-c24d952602d2       disgust\n",
      "2      97522e57-d9ab-4bd6-97bf-c24d952602d2       dislike\n",
      "3      97522e57-d9ab-4bd6-97bf-c24d952602d2        scared\n",
      "4      97522e57-d9ab-4bd6-97bf-c24d952602d2       disgust\n",
      "5      97522e57-d9ab-4bd6-97bf-c24d952602d2    interested\n",
      "...                                     ...           ...\n",
      "25547  75d6b589-7fae-4a6d-b0d0-752845150e56       worried\n",
      "25548  75d6b589-7fae-4a6d-b0d0-752845150e56       dislike\n",
      "25549  75d6b589-7fae-4a6d-b0d0-752845150e56     intrigued\n",
      "25551  75d6b589-7fae-4a6d-b0d0-752845150e56       worried\n",
      "25552  75d6b589-7fae-4a6d-b0d0-752845150e56       cherish\n",
      "\n",
      "[22534 rows x 2 columns]\n"
     ]
    }
   ],
   "source": [
    "print(React)"
   ]
  },
  {
   "cell_type": "markdown",
   "id": "08bc49b3-b4bc-4890-a2ab-608a53f56fef",
   "metadata": {},
   "source": [
    "Load the dataset"
   ]
  },
  {
   "cell_type": "code",
   "execution_count": 24,
   "id": "0c9b1540-d91b-4049-b6af-e192c7180244",
   "metadata": {},
   "outputs": [],
   "source": [
    "file03 = 'Content.csv'\n",
    "Content = pd.read_csv(file03)"
   ]
  },
  {
   "cell_type": "markdown",
   "id": "818dd0b7-5f47-4f6a-86eb-45f63027fa70",
   "metadata": {},
   "source": [
    "Display Basic Info"
   ]
  },
  {
   "cell_type": "code",
   "execution_count": 25,
   "id": "4c41aab9-90ec-4ca7-a8da-616412397053",
   "metadata": {},
   "outputs": [
    {
     "name": "stdout",
     "output_type": "stream",
     "text": [
      "<class 'pandas.core.frame.DataFrame'>\n",
      "RangeIndex: 1000 entries, 0 to 999\n",
      "Data columns (total 6 columns):\n",
      " #   Column      Non-Null Count  Dtype \n",
      "---  ------      --------------  ----- \n",
      " 0   Unnamed: 0  1000 non-null   int64 \n",
      " 1   Content ID  1000 non-null   object\n",
      " 2   User ID     1000 non-null   object\n",
      " 3   Type        1000 non-null   object\n",
      " 4   Category    1000 non-null   object\n",
      " 5   URL         801 non-null    object\n",
      "dtypes: int64(1), object(5)\n",
      "memory usage: 47.0+ KB\n",
      "None\n"
     ]
    }
   ],
   "source": [
    "print(Content.info())"
   ]
  },
  {
   "cell_type": "markdown",
   "id": "a578eaa6-857a-4d6b-9487-6ac16a51137e",
   "metadata": {},
   "source": [
    "Drop unnecessary columns"
   ]
  },
  {
   "cell_type": "code",
   "execution_count": 26,
   "id": "1dc98a7a-ed91-4a8b-904e-b38e1c231862",
   "metadata": {},
   "outputs": [],
   "source": [
    "Content = Content.drop(columns=['User ID', 'URL', 'Unnamed: 0'])"
   ]
  },
  {
   "cell_type": "code",
   "execution_count": 27,
   "id": "ea3dbc95-98ac-42bc-a64f-c2b6d5eb5b84",
   "metadata": {},
   "outputs": [
    {
     "name": "stdout",
     "output_type": "stream",
     "text": [
      "<class 'pandas.core.frame.DataFrame'>\n",
      "RangeIndex: 1000 entries, 0 to 999\n",
      "Data columns (total 3 columns):\n",
      " #   Column      Non-Null Count  Dtype \n",
      "---  ------      --------------  ----- \n",
      " 0   Content ID  1000 non-null   object\n",
      " 1   Type        1000 non-null   object\n",
      " 2   Category    1000 non-null   object\n",
      "dtypes: object(3)\n",
      "memory usage: 23.6+ KB\n",
      "None\n"
     ]
    }
   ],
   "source": [
    "print(Content.info())"
   ]
  },
  {
   "cell_type": "markdown",
   "id": "c00b5b57-2ac8-4244-bdce-c250c041822b",
   "metadata": {},
   "source": [
    "Check null values"
   ]
  },
  {
   "cell_type": "code",
   "execution_count": 28,
   "id": "47eee28f-c04c-4470-9c61-11cd36ccf545",
   "metadata": {},
   "outputs": [
    {
     "name": "stdout",
     "output_type": "stream",
     "text": [
      "Content ID    0\n",
      "Type          0\n",
      "Category      0\n",
      "dtype: int64\n"
     ]
    }
   ],
   "source": [
    "print(Content.isnull().sum()) #no null values"
   ]
  },
  {
   "cell_type": "code",
   "execution_count": 29,
   "id": "a9b8ab54-da4d-484e-90f3-f18056049897",
   "metadata": {},
   "outputs": [
    {
     "name": "stdout",
     "output_type": "stream",
     "text": [
      "                               Content ID   Type         Category\n",
      "0    97522e57-d9ab-4bd6-97bf-c24d952602d2  photo         Studying\n",
      "1    9f737e0a-3cdd-4d29-9d24-753f4e3be810  photo   healthy eating\n",
      "2    230c4e4d-70c3-461d-b42c-ec09396efb3f  photo   healthy eating\n",
      "3    356fff80-da4d-4785-9f43-bc1261031dc6  photo       technology\n",
      "4    01ab84dd-6364-4236-abbb-3f237db77180  video             food\n",
      "..                                    ...    ...              ...\n",
      "995  b4cef9ef-627b-41d7-a051-5961b0204ebb  video  public speaking\n",
      "996  7a79f4e4-3b7d-44dc-bdef-bc990740252c    GIF       technology\n",
      "997  435007a5-6261-4d8b-b0a4-55fdc189754b  audio         veganism\n",
      "998  4e4c9690-c013-4ee7-9e66-943d8cbd27b7    GIF          culture\n",
      "999  75d6b589-7fae-4a6d-b0d0-752845150e56  audio       technology\n",
      "\n",
      "[1000 rows x 3 columns]\n"
     ]
    }
   ],
   "source": [
    "print(Content)"
   ]
  },
  {
   "cell_type": "code",
   "execution_count": 30,
   "id": "da714e79-b37f-485a-ba62-395e3b04ca98",
   "metadata": {},
   "outputs": [],
   "source": [
    "Content = Content.rename(columns = {'Type': 'Content Type'})"
   ]
  },
  {
   "cell_type": "code",
   "execution_count": 31,
   "id": "65489e0c-d382-4439-b154-25a556d35d09",
   "metadata": {},
   "outputs": [
    {
     "name": "stdout",
     "output_type": "stream",
     "text": [
      "                               Content ID Content Type         Category\n",
      "0    97522e57-d9ab-4bd6-97bf-c24d952602d2        photo         Studying\n",
      "1    9f737e0a-3cdd-4d29-9d24-753f4e3be810        photo   healthy eating\n",
      "2    230c4e4d-70c3-461d-b42c-ec09396efb3f        photo   healthy eating\n",
      "3    356fff80-da4d-4785-9f43-bc1261031dc6        photo       technology\n",
      "4    01ab84dd-6364-4236-abbb-3f237db77180        video             food\n",
      "..                                    ...          ...              ...\n",
      "995  b4cef9ef-627b-41d7-a051-5961b0204ebb        video  public speaking\n",
      "996  7a79f4e4-3b7d-44dc-bdef-bc990740252c          GIF       technology\n",
      "997  435007a5-6261-4d8b-b0a4-55fdc189754b        audio         veganism\n",
      "998  4e4c9690-c013-4ee7-9e66-943d8cbd27b7          GIF          culture\n",
      "999  75d6b589-7fae-4a6d-b0d0-752845150e56        audio       technology\n",
      "\n",
      "[1000 rows x 3 columns]\n"
     ]
    }
   ],
   "source": [
    "print(Content)"
   ]
  },
  {
   "cell_type": "code",
   "execution_count": 32,
   "id": "089ae847-6e2d-4a8c-aa53-3850ca72be07",
   "metadata": {},
   "outputs": [
    {
     "name": "stdout",
     "output_type": "stream",
     "text": [
      "                                 Content ID Reaction Type             Datetime\n",
      "1      97522e57-d9ab-4bd6-97bf-c24d952602d2       disgust  2020-11-07 09:43:50\n",
      "2      97522e57-d9ab-4bd6-97bf-c24d952602d2       dislike  2021-06-17 12:22:51\n",
      "3      97522e57-d9ab-4bd6-97bf-c24d952602d2        scared  2021-04-18 05:13:58\n",
      "4      97522e57-d9ab-4bd6-97bf-c24d952602d2       disgust  2021-01-06 19:13:01\n",
      "5      97522e57-d9ab-4bd6-97bf-c24d952602d2    interested  2020-08-23 12:25:58\n",
      "...                                     ...           ...                  ...\n",
      "25547  75d6b589-7fae-4a6d-b0d0-752845150e56       worried  2020-10-31 04:50:14\n",
      "25548  75d6b589-7fae-4a6d-b0d0-752845150e56       dislike  2020-06-27 09:46:48\n",
      "25549  75d6b589-7fae-4a6d-b0d0-752845150e56     intrigued  2021-02-16 17:17:02\n",
      "25551  75d6b589-7fae-4a6d-b0d0-752845150e56       worried  2020-11-04 20:08:31\n",
      "25552  75d6b589-7fae-4a6d-b0d0-752845150e56       cherish  2021-01-04 04:55:11\n",
      "\n",
      "[22534 rows x 3 columns]\n"
     ]
    }
   ],
   "source": [
    "print(React)"
   ]
  },
  {
   "cell_type": "code",
   "execution_count": 33,
   "id": "8407167f-4715-4aa2-873d-541a069fa395",
   "metadata": {},
   "outputs": [
    {
     "name": "stdout",
     "output_type": "stream",
     "text": [
      "   Reaction Type Sentiment  Score\n",
      "0          heart  positive     60\n",
      "1           want  positive     70\n",
      "2        disgust  negative      0\n",
      "3           hate  negative      5\n",
      "4     interested  positive     30\n",
      "5    indifferent   neutral     20\n",
      "6           love  positive     65\n",
      "7     super love  positive     75\n",
      "8        cherish  positive     70\n",
      "9          adore  positive     72\n",
      "10          like  positive     50\n",
      "11       dislike  negative     10\n",
      "12     intrigued  positive     45\n",
      "13       peeking   neutral     35\n",
      "14        scared  negative     15\n",
      "15       worried  negative     12\n"
     ]
    }
   ],
   "source": [
    "print(ReactType)"
   ]
  },
  {
   "cell_type": "code",
   "execution_count": 34,
   "id": "58f1677b-8b9a-42f1-96cc-95e8ef03c8a1",
   "metadata": {},
   "outputs": [
    {
     "name": "stdout",
     "output_type": "stream",
     "text": [
      "                               Content ID Content Type         Category\n",
      "0    97522e57-d9ab-4bd6-97bf-c24d952602d2        photo         Studying\n",
      "1    9f737e0a-3cdd-4d29-9d24-753f4e3be810        photo   healthy eating\n",
      "2    230c4e4d-70c3-461d-b42c-ec09396efb3f        photo   healthy eating\n",
      "3    356fff80-da4d-4785-9f43-bc1261031dc6        photo       technology\n",
      "4    01ab84dd-6364-4236-abbb-3f237db77180        video             food\n",
      "..                                    ...          ...              ...\n",
      "995  b4cef9ef-627b-41d7-a051-5961b0204ebb        video  public speaking\n",
      "996  7a79f4e4-3b7d-44dc-bdef-bc990740252c          GIF       technology\n",
      "997  435007a5-6261-4d8b-b0a4-55fdc189754b        audio         veganism\n",
      "998  4e4c9690-c013-4ee7-9e66-943d8cbd27b7          GIF          culture\n",
      "999  75d6b589-7fae-4a6d-b0d0-752845150e56        audio       technology\n",
      "\n",
      "[1000 rows x 3 columns]\n"
     ]
    }
   ],
   "source": [
    "print(Content)"
   ]
  },
  {
   "cell_type": "code",
   "execution_count": 35,
   "id": "fa52dc2f-ff58-4eaa-a181-5a82c93449e0",
   "metadata": {},
   "outputs": [
    {
     "name": "stdout",
     "output_type": "stream",
     "text": [
      "   Reaction Type Sentiment  Score\n",
      "0          heart  positive     60\n",
      "1           want  positive     70\n",
      "2        disgust  negative      0\n",
      "3           hate  negative      5\n",
      "4     interested  positive     30\n",
      "5    indifferent   neutral     20\n",
      "6           love  positive     65\n",
      "7     super love  positive     75\n",
      "8        cherish  positive     70\n",
      "9          adore  positive     72\n",
      "10          like  positive     50\n",
      "11       dislike  negative     10\n",
      "12     intrigued  positive     45\n",
      "13       peeking   neutral     35\n",
      "14        scared  negative     15\n",
      "15       worried  negative     12\n"
     ]
    }
   ],
   "source": [
    "print(ReactType)"
   ]
  },
  {
   "cell_type": "code",
   "execution_count": 37,
   "id": "274b4c47-04ca-4017-becd-6d6cc8e4180b",
   "metadata": {},
   "outputs": [],
   "source": [
    "merged_React_Content = pd.merge(React,Content, on= 'Content ID', how='outer')"
   ]
  },
  {
   "cell_type": "code",
   "execution_count": 49,
   "id": "d8ee04df-a2d3-4b60-a11d-a72d06b05f9e",
   "metadata": {},
   "outputs": [
    {
     "name": "stdout",
     "output_type": "stream",
     "text": [
      "                              Content ID Reaction Type             Datetime  \\\n",
      "0   97522e57-d9ab-4bd6-97bf-c24d952602d2       disgust  2020-11-07 09:43:50   \n",
      "1   97522e57-d9ab-4bd6-97bf-c24d952602d2       dislike  2021-06-17 12:22:51   \n",
      "2   97522e57-d9ab-4bd6-97bf-c24d952602d2        scared  2021-04-18 05:13:58   \n",
      "3   97522e57-d9ab-4bd6-97bf-c24d952602d2       disgust  2021-01-06 19:13:01   \n",
      "4   97522e57-d9ab-4bd6-97bf-c24d952602d2    interested  2020-08-23 12:25:58   \n",
      "5   97522e57-d9ab-4bd6-97bf-c24d952602d2       peeking  2020-12-07 06:27:54   \n",
      "6   97522e57-d9ab-4bd6-97bf-c24d952602d2       cherish  2021-04-11 17:35:49   \n",
      "7   97522e57-d9ab-4bd6-97bf-c24d952602d2          hate  2021-01-27 08:32:09   \n",
      "8   97522e57-d9ab-4bd6-97bf-c24d952602d2       peeking  2021-04-01 22:54:23   \n",
      "9   97522e57-d9ab-4bd6-97bf-c24d952602d2   indifferent  2020-11-07 08:36:27   \n",
      "10  97522e57-d9ab-4bd6-97bf-c24d952602d2        scared  2020-11-02 06:28:53   \n",
      "11  97522e57-d9ab-4bd6-97bf-c24d952602d2    interested  2020-11-01 01:16:21   \n",
      "12  97522e57-d9ab-4bd6-97bf-c24d952602d2          hate  2020-10-07 18:39:08   \n",
      "13  97522e57-d9ab-4bd6-97bf-c24d952602d2        scared  2020-09-03 18:51:38   \n",
      "14  97522e57-d9ab-4bd6-97bf-c24d952602d2    super love  2021-02-24 05:09:23   \n",
      "15  97522e57-d9ab-4bd6-97bf-c24d952602d2       peeking  2020-09-23 06:24:11   \n",
      "16  97522e57-d9ab-4bd6-97bf-c24d952602d2   indifferent  2021-02-24 11:37:57   \n",
      "17  97522e57-d9ab-4bd6-97bf-c24d952602d2    interested  2021-05-22 19:44:23   \n",
      "18  97522e57-d9ab-4bd6-97bf-c24d952602d2       peeking  2020-11-20 17:26:23   \n",
      "19  97522e57-d9ab-4bd6-97bf-c24d952602d2       worried  2021-04-11 20:47:13   \n",
      "20  97522e57-d9ab-4bd6-97bf-c24d952602d2          like  2021-06-13 16:46:06   \n",
      "21  97522e57-d9ab-4bd6-97bf-c24d952602d2         heart  2021-04-11 14:29:59   \n",
      "22  97522e57-d9ab-4bd6-97bf-c24d952602d2       worried  2021-03-02 19:21:19   \n",
      "23  97522e57-d9ab-4bd6-97bf-c24d952602d2          hate  2020-06-27 18:44:39   \n",
      "24  97522e57-d9ab-4bd6-97bf-c24d952602d2          hate  2021-05-09 21:05:17   \n",
      "25  97522e57-d9ab-4bd6-97bf-c24d952602d2       cherish  2020-08-04 23:58:42   \n",
      "26  97522e57-d9ab-4bd6-97bf-c24d952602d2    super love  2020-08-28 03:57:20   \n",
      "27  97522e57-d9ab-4bd6-97bf-c24d952602d2        scared  2021-04-20 23:48:12   \n",
      "28  97522e57-d9ab-4bd6-97bf-c24d952602d2    interested  2021-03-07 12:40:11   \n",
      "29  97522e57-d9ab-4bd6-97bf-c24d952602d2   indifferent  2021-05-24 03:21:13   \n",
      "\n",
      "   Content Type  Category  \n",
      "0         photo  Studying  \n",
      "1         photo  Studying  \n",
      "2         photo  Studying  \n",
      "3         photo  Studying  \n",
      "4         photo  Studying  \n",
      "5         photo  Studying  \n",
      "6         photo  Studying  \n",
      "7         photo  Studying  \n",
      "8         photo  Studying  \n",
      "9         photo  Studying  \n",
      "10        photo  Studying  \n",
      "11        photo  Studying  \n",
      "12        photo  Studying  \n",
      "13        photo  Studying  \n",
      "14        photo  Studying  \n",
      "15        photo  Studying  \n",
      "16        photo  Studying  \n",
      "17        photo  Studying  \n",
      "18        photo  Studying  \n",
      "19        photo  Studying  \n",
      "20        photo  Studying  \n",
      "21        photo  Studying  \n",
      "22        photo  Studying  \n",
      "23        photo  Studying  \n",
      "24        photo  Studying  \n",
      "25        photo  Studying  \n",
      "26        photo  Studying  \n",
      "27        photo  Studying  \n",
      "28        photo  Studying  \n",
      "29        photo  Studying  \n"
     ]
    }
   ],
   "source": [
    "print(merged_React_Content.head(30))"
   ]
  },
  {
   "cell_type": "code",
   "execution_count": 42,
   "id": "f6932af4-a230-41aa-808f-b1ed3c67c93d",
   "metadata": {},
   "outputs": [],
   "source": [
    "merged_data = pd.merge(merged_React_Content,ReactType, how='outer')"
   ]
  },
  {
   "cell_type": "code",
   "execution_count": 51,
   "id": "cf924f23-d027-4005-a87b-218c0730b288",
   "metadata": {},
   "outputs": [
    {
     "name": "stdout",
     "output_type": "stream",
     "text": [
      "                               Content ID Reaction Type             Datetime  \\\n",
      "0    97522e57-d9ab-4bd6-97bf-c24d952602d2       disgust  2020-11-07 09:43:50   \n",
      "1    97522e57-d9ab-4bd6-97bf-c24d952602d2       disgust  2021-01-06 19:13:01   \n",
      "2    97522e57-d9ab-4bd6-97bf-c24d952602d2       disgust  2021-04-09 02:46:20   \n",
      "3    9f737e0a-3cdd-4d29-9d24-753f4e3be810       disgust  2021-03-28 21:15:26   \n",
      "4    230c4e4d-70c3-461d-b42c-ec09396efb3f       disgust  2020-08-04 05:40:33   \n",
      "..                                    ...           ...                  ...   \n",
      "995  02664d35-87cf-46a6-a80b-78fbc9ac8b2f       disgust  2020-07-03 02:57:32   \n",
      "996  e0cb0394-c5b2-447a-a9f4-88604a3ec283       disgust  2020-09-25 05:40:13   \n",
      "997  e0cb0394-c5b2-447a-a9f4-88604a3ec283       disgust  2020-08-21 06:38:37   \n",
      "998  e0cb0394-c5b2-447a-a9f4-88604a3ec283       disgust  2021-02-11 07:00:17   \n",
      "999  ec6c41c9-509e-43ff-83bb-0e5202b8e62a       disgust  2020-12-14 14:10:02   \n",
      "\n",
      "    Content Type         Category Sentiment  Score  \n",
      "0          photo         Studying  negative    0.0  \n",
      "1          photo         Studying  negative    0.0  \n",
      "2          photo         Studying  negative    0.0  \n",
      "3          photo   healthy eating  negative    0.0  \n",
      "4          photo   healthy eating  negative    0.0  \n",
      "..           ...              ...       ...    ...  \n",
      "995          GIF          science  negative    0.0  \n",
      "996        audio  public speaking  negative    0.0  \n",
      "997        audio  public speaking  negative    0.0  \n",
      "998        audio  public speaking  negative    0.0  \n",
      "999        audio        education  negative    0.0  \n",
      "\n",
      "[1000 rows x 7 columns]\n"
     ]
    }
   ],
   "source": [
    "print(merged_data.head(1000))"
   ]
  },
  {
   "cell_type": "code",
   "execution_count": 52,
   "id": "a68f3c28-6501-4287-a01c-d49dad31e51e",
   "metadata": {},
   "outputs": [],
   "source": [
    "merge_data_01= pd.merge(merged_React_Content,ReactType, on = 'Reaction Type', how='left')"
   ]
  },
  {
   "cell_type": "code",
   "execution_count": 53,
   "id": "616bf165-dbf6-4c83-a135-a6c93f37e429",
   "metadata": {},
   "outputs": [
    {
     "name": "stdout",
     "output_type": "stream",
     "text": [
      "                                 Content ID Reaction Type  \\\n",
      "0      97522e57-d9ab-4bd6-97bf-c24d952602d2       disgust   \n",
      "1      97522e57-d9ab-4bd6-97bf-c24d952602d2       dislike   \n",
      "2      97522e57-d9ab-4bd6-97bf-c24d952602d2        scared   \n",
      "3      97522e57-d9ab-4bd6-97bf-c24d952602d2       disgust   \n",
      "4      97522e57-d9ab-4bd6-97bf-c24d952602d2    interested   \n",
      "...                                     ...           ...   \n",
      "22567  daaae2e1-3090-4f64-9d43-b4e4ffbb5c8b           NaN   \n",
      "22568  4b10bec8-9754-4f5d-b129-a4b6fa030660           NaN   \n",
      "22569  0bfa4a8c-78be-4f6e-888f-490c47d355ed           NaN   \n",
      "22570  51199552-05ed-47e5-9c86-6177a406d928           NaN   \n",
      "22571  b94d8643-4dd8-4f15-a58e-0c9b6691d01a           NaN   \n",
      "\n",
      "                  Datetime Content Type        Category Sentiment  Score  \n",
      "0      2020-11-07 09:43:50        photo        Studying  negative    0.0  \n",
      "1      2021-06-17 12:22:51        photo        Studying  negative   10.0  \n",
      "2      2021-04-18 05:13:58        photo        Studying  negative   15.0  \n",
      "3      2021-01-06 19:13:01        photo        Studying  negative    0.0  \n",
      "4      2020-08-23 12:25:58        photo        Studying  positive   30.0  \n",
      "...                    ...          ...             ...       ...    ...  \n",
      "22567                  NaN          GIF       education       NaN    NaN  \n",
      "22568                  NaN        photo          tennis       NaN    NaN  \n",
      "22569                  NaN        photo            dogs       NaN    NaN  \n",
      "22570                  NaN        audio         fitness       NaN    NaN  \n",
      "22571                  NaN          GIF  healthy eating       NaN    NaN  \n",
      "\n",
      "[22572 rows x 7 columns]\n"
     ]
    }
   ],
   "source": [
    "print(merge_data_01)"
   ]
  },
  {
   "cell_type": "code",
   "execution_count": 54,
   "id": "056b8a4a-317a-488c-ac46-bcc6bfd95c86",
   "metadata": {},
   "outputs": [],
   "source": [
    "aggregate_sum = merge_data_01.groupby('Category')['Score'].sum().reset_index()"
   ]
  },
  {
   "cell_type": "code",
   "execution_count": 55,
   "id": "8e889b81-40fc-4d01-8d17-639cbea35f32",
   "metadata": {},
   "outputs": [
    {
     "name": "stdout",
     "output_type": "stream",
     "text": [
      "             Category    Score\n",
      "0           \"animals\"   1519.0\n",
      "1           \"cooking\"    644.0\n",
      "2           \"culture\"   1980.0\n",
      "3              \"dogs\"   1618.0\n",
      "4              \"food\"     50.0\n",
      "5   \"public speaking\"    894.0\n",
      "6           \"science\"    506.0\n",
      "7            \"soccer\"   2243.0\n",
      "8          \"studying\"    486.0\n",
      "9        \"technology\"    939.0\n",
      "10           \"tennis\"      0.0\n",
      "11         \"veganism\"   1040.0\n",
      "12            Animals   3561.0\n",
      "13            Culture   1450.0\n",
      "14          Education   1218.0\n",
      "15            Fitness   5017.0\n",
      "16               Food   3142.0\n",
      "17     Healthy Eating    272.0\n",
      "18    Public Speaking   1231.0\n",
      "19            Science   4324.0\n",
      "20             Soccer   2516.0\n",
      "21           Studying   1176.0\n",
      "22         Technology    217.0\n",
      "23             Travel   1010.0\n",
      "24           Veganism    579.0\n",
      "25            animals  63544.0\n",
      "26            cooking  58530.0\n",
      "27            culture  57233.0\n",
      "28               dogs  46780.0\n",
      "29          education  51541.0\n",
      "30            fitness  45818.0\n",
      "31               food  58406.0\n",
      "32     healthy eating  62866.0\n",
      "33    public speaking  43626.0\n",
      "34            science  60575.0\n",
      "35             soccer  48457.0\n",
      "36           studying  47780.0\n",
      "37         technology  61879.0\n",
      "38             tennis  46185.0\n",
      "39             travel  58348.0\n",
      "40           veganism  44282.0\n"
     ]
    }
   ],
   "source": [
    "print(aggregate_sum)"
   ]
  },
  {
   "cell_type": "code",
   "execution_count": 57,
   "id": "706bb1bf-2df9-4419-8476-bdc996fec7db",
   "metadata": {},
   "outputs": [],
   "source": [
    "aggregate_sum['Category'] = aggregate_sum['Category'].str.strip().str.lower()"
   ]
  },
  {
   "cell_type": "code",
   "execution_count": 58,
   "id": "022b4a45-6bd6-4bd7-b68a-ac7ddc004136",
   "metadata": {},
   "outputs": [
    {
     "name": "stdout",
     "output_type": "stream",
     "text": [
      "             Category    Score\n",
      "0           \"animals\"   1519.0\n",
      "1           \"cooking\"    644.0\n",
      "2           \"culture\"   1980.0\n",
      "3              \"dogs\"   1618.0\n",
      "4              \"food\"     50.0\n",
      "5   \"public speaking\"    894.0\n",
      "6           \"science\"    506.0\n",
      "7            \"soccer\"   2243.0\n",
      "8          \"studying\"    486.0\n",
      "9        \"technology\"    939.0\n",
      "10           \"tennis\"      0.0\n",
      "11         \"veganism\"   1040.0\n",
      "12            animals   3561.0\n",
      "13            culture   1450.0\n",
      "14          education   1218.0\n",
      "15            fitness   5017.0\n",
      "16               food   3142.0\n",
      "17     healthy eating    272.0\n",
      "18    public speaking   1231.0\n",
      "19            science   4324.0\n",
      "20             soccer   2516.0\n",
      "21           studying   1176.0\n",
      "22         technology    217.0\n",
      "23             travel   1010.0\n",
      "24           veganism    579.0\n",
      "25            animals  63544.0\n",
      "26            cooking  58530.0\n",
      "27            culture  57233.0\n",
      "28               dogs  46780.0\n",
      "29          education  51541.0\n",
      "30            fitness  45818.0\n",
      "31               food  58406.0\n",
      "32     healthy eating  62866.0\n",
      "33    public speaking  43626.0\n",
      "34            science  60575.0\n",
      "35             soccer  48457.0\n",
      "36           studying  47780.0\n",
      "37         technology  61879.0\n",
      "38             tennis  46185.0\n",
      "39             travel  58348.0\n",
      "40           veganism  44282.0\n"
     ]
    }
   ],
   "source": [
    "print(aggregate_sum)"
   ]
  },
  {
   "cell_type": "code",
   "execution_count": 60,
   "id": "dbc1625b-8b4c-466b-89a3-57be27dac331",
   "metadata": {},
   "outputs": [],
   "source": [
    "agg_sum = aggregate_sum.groupby('Category')['Score'].sum().reset_index()"
   ]
  },
  {
   "cell_type": "code",
   "execution_count": 61,
   "id": "0226765c-7137-41ac-ae49-ce2f222c7733",
   "metadata": {},
   "outputs": [
    {
     "name": "stdout",
     "output_type": "stream",
     "text": [
      "             Category    Score\n",
      "0           \"animals\"   1519.0\n",
      "1           \"cooking\"    644.0\n",
      "2           \"culture\"   1980.0\n",
      "3              \"dogs\"   1618.0\n",
      "4              \"food\"     50.0\n",
      "5   \"public speaking\"    894.0\n",
      "6           \"science\"    506.0\n",
      "7            \"soccer\"   2243.0\n",
      "8          \"studying\"    486.0\n",
      "9        \"technology\"    939.0\n",
      "10           \"tennis\"      0.0\n",
      "11         \"veganism\"   1040.0\n",
      "12            animals  67105.0\n",
      "13            cooking  58530.0\n",
      "14            culture  58683.0\n",
      "15               dogs  46780.0\n",
      "16          education  52759.0\n",
      "17            fitness  50835.0\n",
      "18               food  61548.0\n",
      "19     healthy eating  63138.0\n",
      "20    public speaking  44857.0\n",
      "21            science  64899.0\n",
      "22             soccer  50973.0\n",
      "23           studying  48956.0\n",
      "24         technology  62096.0\n",
      "25             tennis  46185.0\n",
      "26             travel  59358.0\n",
      "27           veganism  44861.0\n"
     ]
    }
   ],
   "source": [
    "print(agg_sum)"
   ]
  },
  {
   "cell_type": "code",
   "execution_count": 62,
   "id": "b1291a1e-53d9-430b-b208-2b130dbfdd60",
   "metadata": {},
   "outputs": [],
   "source": [
    "agg_sum['Category'] = agg_sum['Category'].str.replace('\"', '').str.strip().str.lower()"
   ]
  },
  {
   "cell_type": "code",
   "execution_count": 63,
   "id": "ded145e5-d191-4f5d-9b01-a11ddfa6f632",
   "metadata": {},
   "outputs": [
    {
     "name": "stdout",
     "output_type": "stream",
     "text": [
      "           Category    Score\n",
      "0           animals   1519.0\n",
      "1           cooking    644.0\n",
      "2           culture   1980.0\n",
      "3              dogs   1618.0\n",
      "4              food     50.0\n",
      "5   public speaking    894.0\n",
      "6           science    506.0\n",
      "7            soccer   2243.0\n",
      "8          studying    486.0\n",
      "9        technology    939.0\n",
      "10           tennis      0.0\n",
      "11         veganism   1040.0\n",
      "12          animals  67105.0\n",
      "13          cooking  58530.0\n",
      "14          culture  58683.0\n",
      "15             dogs  46780.0\n",
      "16        education  52759.0\n",
      "17          fitness  50835.0\n",
      "18             food  61548.0\n",
      "19   healthy eating  63138.0\n",
      "20  public speaking  44857.0\n",
      "21          science  64899.0\n",
      "22           soccer  50973.0\n",
      "23         studying  48956.0\n",
      "24       technology  62096.0\n",
      "25           tennis  46185.0\n",
      "26           travel  59358.0\n",
      "27         veganism  44861.0\n"
     ]
    }
   ],
   "source": [
    "print(agg_sum)"
   ]
  },
  {
   "cell_type": "code",
   "execution_count": 64,
   "id": "97ed6a89-f251-4947-b67f-dbaffc5589e3",
   "metadata": {},
   "outputs": [],
   "source": [
    "final_df = agg_sum.groupby('Category')['Score'].sum().reset_index()"
   ]
  },
  {
   "cell_type": "code",
   "execution_count": 65,
   "id": "8930173a-ff45-49bb-8f39-5ba8a4005982",
   "metadata": {},
   "outputs": [
    {
     "name": "stdout",
     "output_type": "stream",
     "text": [
      "           Category    Score\n",
      "0           animals  68624.0\n",
      "1           cooking  59174.0\n",
      "2           culture  60663.0\n",
      "3              dogs  48398.0\n",
      "4         education  52759.0\n",
      "5           fitness  50835.0\n",
      "6              food  61598.0\n",
      "7    healthy eating  63138.0\n",
      "8   public speaking  45751.0\n",
      "9           science  65405.0\n",
      "10           soccer  53216.0\n",
      "11         studying  49442.0\n",
      "12       technology  63035.0\n",
      "13           tennis  46185.0\n",
      "14           travel  59358.0\n",
      "15         veganism  45901.0\n"
     ]
    }
   ],
   "source": [
    "print(final_df)"
   ]
  },
  {
   "cell_type": "code",
   "execution_count": 68,
   "id": "80d3a0b4-c1fc-4673-b2cd-64810eadef24",
   "metadata": {},
   "outputs": [],
   "source": [
    "result_df = final_df.groupby('Category')['Score'].sum().reset_index()"
   ]
  },
  {
   "cell_type": "code",
   "execution_count": 69,
   "id": "78cbe157-938c-43e9-acb6-2704dc46196a",
   "metadata": {},
   "outputs": [
    {
     "name": "stdout",
     "output_type": "stream",
     "text": [
      "           Category    Score\n",
      "0           animals  68624.0\n",
      "1           cooking  59174.0\n",
      "2           culture  60663.0\n",
      "3              dogs  48398.0\n",
      "4         education  52759.0\n",
      "5           fitness  50835.0\n",
      "6              food  61598.0\n",
      "7    healthy eating  63138.0\n",
      "8   public speaking  45751.0\n",
      "9           science  65405.0\n",
      "10           soccer  53216.0\n",
      "11         studying  49442.0\n",
      "12       technology  63035.0\n",
      "13           tennis  46185.0\n",
      "14           travel  59358.0\n",
      "15         veganism  45901.0\n"
     ]
    }
   ],
   "source": [
    "print(result_df)"
   ]
  },
  {
   "cell_type": "code",
   "execution_count": 72,
   "id": "342c7b28-0372-4c14-bef9-ec738f8751ef",
   "metadata": {},
   "outputs": [],
   "source": [
    "top_5_categories = result_df.sort_values(by='Score', ascending=False).reset_index()\n"
   ]
  },
  {
   "cell_type": "code",
   "execution_count": 73,
   "id": "7f5d1d8d-8a33-4b4f-a232-22a527546de4",
   "metadata": {},
   "outputs": [
    {
     "name": "stdout",
     "output_type": "stream",
     "text": [
      "    index         Category    Score\n",
      "0       0          animals  68624.0\n",
      "1       9          science  65405.0\n",
      "2       7   healthy eating  63138.0\n",
      "3      12       technology  63035.0\n",
      "4       6             food  61598.0\n",
      "5       2          culture  60663.0\n",
      "6      14           travel  59358.0\n",
      "7       1          cooking  59174.0\n",
      "8      10           soccer  53216.0\n",
      "9       4        education  52759.0\n",
      "10      5          fitness  50835.0\n",
      "11     11         studying  49442.0\n",
      "12      3             dogs  48398.0\n",
      "13     13           tennis  46185.0\n",
      "14     15         veganism  45901.0\n",
      "15      8  public speaking  45751.0\n"
     ]
    }
   ],
   "source": [
    "print(top_5_categories)"
   ]
  },
  {
   "cell_type": "code",
   "execution_count": null,
   "id": "982149de-5901-46b6-be11-d8ce8df0da4c",
   "metadata": {},
   "outputs": [],
   "source": []
  }
 ],
 "metadata": {
  "kernelspec": {
   "display_name": "Python 3 (ipykernel)",
   "language": "python",
   "name": "python3"
  },
  "language_info": {
   "codemirror_mode": {
    "name": "ipython",
    "version": 3
   },
   "file_extension": ".py",
   "mimetype": "text/x-python",
   "name": "python",
   "nbconvert_exporter": "python",
   "pygments_lexer": "ipython3",
   "version": "3.11.7"
  }
 },
 "nbformat": 4,
 "nbformat_minor": 5
}
